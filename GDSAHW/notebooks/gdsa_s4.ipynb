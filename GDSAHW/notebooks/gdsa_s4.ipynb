{
 "cells": [
  {
   "cell_type": "heading",
   "metadata": {},
   "level": 1,
   "source": [
    "Aproximació naïf aleatòria a la descripció i classificació d'edificis."
   ]
  },
  {
   "cell_type": "heading",
   "metadata": {},
   "level": 1,
   "source": [
    "BauID - GDSA 102.2"
   ]
  },
  {
   "cell_type": "markdown",
   "metadata": {},
   "source": [
    "El workflow necessari i previ per obtenir els descriptors i classificadors involucra els mòduls de python següents:\n",
    "\n",
    "\t-params.py (informació de les rutes i l'arbre de directoris, i altres paràmetres globals per les funcions que posteriorment s'utilitzen.)\n",
    "\t-build_database.py (llegeix el nom d'arxiu de les fotografies recopilades i genera ID's er cada conjunt de dades: el d'entrenament i el de validació.\n",
    "\t-feature_extraction.py, get_features.py (obté el Bag of Words per a cada imatge del conjunt.)"
   ]
  },
  {
   "cell_type": "code",
   "execution_count": null,
   "metadata": {
    "collapsed": false
   },
   "outputs": [],
   "source": [
    "import numpy as np\n",
    "import sys\n",
    "# el directori superior ja s'ha afegit a la build-config.\n",
    "# sys.path.insert(0,'../')\n",
    "from utils.params import get_params\n",
    "\n",
    "params = get_params()"
   ]
  },
  {
   "cell_type": "heading",
   "metadata": {},
   "level": 2,
   "source": [
    "4. Classificador aleatori\n"
   ]
  },
  {
   "cell_type": "markdown",
   "metadata": {},
   "source": [
    "S'assigna un ID a cada imatge i se n'extreuen els paràmetres de mètrica de la classificació."
   ]
  },
  {
   "cell_type": "code",
   "execution_count": 3,
   "metadata": {
    "collapsed": false
   },
   "outputs": [
    {
     "ename": "ImportError",
     "evalue": "No module named 'eval_classification'",
     "traceback": [
      "\u001b[0;31m---------------------------------------------------------------------------\u001b[0m",
      "\u001b[0;31mImportError\u001b[0m                               Traceback (most recent call last)",
      "\u001b[0;32m<ipython-input-3-a903faebe949>\u001b[0m in \u001b[0;36m<module>\u001b[0;34m()\u001b[0m\n\u001b[0;32m----> 1\u001b[0;31m \u001b[0;32mimport\u001b[0m \u001b[0meval_classification\u001b[0m \u001b[0;32mas\u001b[0m \u001b[0mEC\u001b[0m\u001b[0;34m\u001b[0m\u001b[0m\n\u001b[0m\u001b[1;32m      2\u001b[0m \u001b[0;34m\u001b[0m\u001b[0m\n\u001b[1;32m      3\u001b[0m \u001b[0;31m# Get metrics\u001b[0m\u001b[0;34m\u001b[0m\u001b[0;34m\u001b[0m\u001b[0m\n\u001b[1;32m      4\u001b[0m \u001b[0mf1\u001b[0m\u001b[0;34m,\u001b[0m \u001b[0mprecision\u001b[0m\u001b[0;34m,\u001b[0m\u001b[0mrecall\u001b[0m\u001b[0;34m,\u001b[0m \u001b[0maccuracy\u001b[0m\u001b[0;34m,\u001b[0m \u001b[0mcm\u001b[0m\u001b[0;34m,\u001b[0m \u001b[0mlabels\u001b[0m \u001b[0;34m=\u001b[0m \u001b[0mEC\u001b[0m\u001b[0;34m.\u001b[0m\u001b[0meval_classification\u001b[0m\u001b[0;34m(\u001b[0m\u001b[0mparams\u001b[0m\u001b[0;34m)\u001b[0m\u001b[0;34m\u001b[0m\u001b[0m\n",
      "\u001b[0;31mImportError\u001b[0m: No module named 'eval_classification'"
     ],
     "output_type": "error"
    }
   ],
   "source": [
    "import eval_classification as EC\n",
    "\n",
    "# Get metrics\n",
    "f1, precision,recall, accuracy, cm, labels = EC.eval_classification(params)"
   ]
  },
  {
   "cell_type": "markdown",
   "metadata": {},
   "source": [
    "Visualment, la matriu de conufusió dóna informació de la concordança de cada classe. Valors alts de classificació d'un element a ell mateix indiquen una bona precisió. Cal notar, que el classificador aleatori ha assignat una classe a cada imatge de manera totalment incoherent, donant lloc a una imatge sense un significat sòlid."
   ]
  },
  {
   "cell_type": "code",
   "execution_count": 3,
   "metadata": {
    "collapsed": true
   },
   "outputs": [],
   "source": [
    "EC.plot_confusion_matrix(cm,labels,normalize=False)"
   ]
  },
  {
   "cell_type": "markdown",
   "metadata": {},
   "source": [
    "Tot i així, la classe desconegut ha obtingut més bons resultats. En aparença millor, malgrat és degut al nombre més gran d'imatges que hi ha de la classe Desconegut."
   ]
  },
  {
   "cell_type": "code",
   "execution_count": 4,
   "metadata": {
    "collapsed": true
   },
   "outputs": [],
   "source": [
    "EC.plot_confusion_matrix(cm,labels,normalize=True)"
   ]
  },
  {
   "cell_type": "markdown",
   "metadata": {},
   "source": [
    "Normalitzant els resultats de cada classe amb el nombre de mostres, s'obté una matriu més representativa de l'èxit del classificador. Segueix havent-hi però, una diferència entre els valors de la classe Desconegut amb la resta. Tot i estar normalitzada, les imatges d'altres edificis ténen més possibilitats d'assignar-se a aquesta classe, ja que n'hi ha més. Donant lloc a valors lleugerament més elevats."
   ]
  },
  {
   "cell_type": "markdown",
   "metadata": {},
   "source": [
    "Seguidament s'obtenen F1, precision i recall per cada classe, així com els seus valors promig globals."
   ]
  },
  {
   "cell_type": "code",
   "execution_count": 5,
   "metadata": {
    "collapsed": true
   },
   "outputs": [],
   "source": [
    "print(\"F1 per class:\")\n",
    "print(zip(labels,f1))\n",
    "print(\"Precision per class:\")\n",
    "print(zip(labels,precision))\n",
    "print(\"Recall per class:\")\n",
    "print(zip(labels,recall))"
   ]
  },
  {
   "cell_type": "code",
   "execution_count": 6,
   "metadata": {
    "collapsed": true
   },
   "outputs": [],
   "source": [
    "print(\"Average F1:\", np.mean(f1)\n",
    "print(\"Average Precision:\", np.mean(precision))\n",
    "print(\"Average Recall:\", np.mean(recall))\n",
    "print(\"Accuracy:\", accuracy)"
   ]
  },
  {
   "cell_type": "markdown",
   "metadata": {},
   "source": [
    "Resulta en uns valors baixos. Cal recordar, que l'ànim del classificador aleatori és validar el codi generat i disposar de les anotacions i prediccions dels conjunts de validació i entrenament. Estableix, però una baseline sobre la que comparar els resultats de futurs classificadors més bons."
   ]
  },
  {
   "cell_type": "heading",
   "metadata": {},
   "level": 2,
   "source": [
    "Random Ranking"
   ]
  },
  {
   "cell_type": "markdown",
   "metadata": {},
   "source": [
    "Es procedeix a l'avaluació dels rankings havent estat prèviament computats. El mòdul rank_random.py ha generat fitxers de text de ground truth i de ranking. Se n'obté la mean average precision."
   ]
  },
  {
   "cell_type": "code",
   "execution_count": 7,
   "metadata": {
    "collapsed": true
   },
   "outputs": [],
   "source": [
    "import eval_rankings as ER"
   ]
  },
  {
   "cell_type": "code",
   "execution_count": 8,
   "metadata": {
    "collapsed": true
   },
   "outputs": [],
   "source": [
    "ap_list = ER.eval_rankings(params)\n",
    "\n",
    "print \"Number of queries:\", len(ap_list)\n",
    "print \"Mean Average Precision\", np.mean(ap_list)"
   ]
  },
  {
   "cell_type": "markdown",
   "metadata": {},
   "source": [
    "De tots els rankings, es pren la precisió mitjana global."
   ]
  },
  {
   "cell_type": "markdown",
   "metadata": {},
   "source": [
    "O, sinó mostrar la precisió d'una imatge o classe en articular."
   ]
  },
  {
   "cell_type": "code",
   "execution_count": 9,
   "metadata": {
    "collapsed": true
   },
   "outputs": [],
   "source": [
    "# We get the true annotations of both sets. We do this in order to display this information as well.\n",
    "annotation_val, annotation_train = ER.read_annotation(params)\n",
    "\n",
    "# We get the ranking and the true class of the query\n",
    "query_id = '30630-5639-13175'\n",
    "query_class, ranking = ER.load_ranking(params,query_id,annotation_val)\n",
    "\n",
    "# I made sure I was not picking an image from the \"desconegut\" class ...\n",
    "print query_class\n",
    "\n",
    "# The ranking is composed of the training images. It should be of size 450.\n",
    "print len(ranking)\n",
    "\n",
    "# We get the hit/miss list for the ranking\n",
    "relnotrel = ER.get_hitandmiss(ranking,query_class,annotation_train)\n",
    "\n",
    "ER.display(params,query_id,ranking,relnotrel)"
   ]
  },
  {
   "cell_type": "markdown",
   "metadata": {},
   "source": [
    "De totes les classes excepte la classe desconegut, se'n poden obtenir el seu ranking i paràmetres anteriors."
   ]
  },
  {
   "cell_type": "code",
   "execution_count": null,
   "metadata": {
    "collapsed": true
   },
   "outputs": [],
   "source": [
    ""
   ]
  },
  {
   "cell_type": "code",
   "execution_count": null,
   "metadata": {
    "collapsed": true
   },
   "outputs": [],
   "source": [
    ""
   ]
  },
  {
   "cell_type": "code",
   "execution_count": null,
   "metadata": {
    "collapsed": true
   },
   "outputs": [],
   "source": [
    ""
   ]
  },
  {
   "cell_type": "code",
   "execution_count": null,
   "metadata": {
    "collapsed": true
   },
   "outputs": [],
   "source": [
    ""
   ]
  }
 ],
 "metadata": {
  "anaconda-cloud": {},
  "kernelspec": {
   "display_name": "Python [default]",
   "language": "python",
   "name": "python3"
  },
  "language_info": {
   "codemirror_mode": {
    "name": "ipython",
    "version": 3.0
   },
   "file_extension": ".py",
   "mimetype": "text/x-python",
   "name": "python",
   "nbconvert_exporter": "python",
   "pygments_lexer": "ipython3",
   "version": "3.5.2"
  },
  "name": ""
 },
 "nbformat": 4,
 "nbformat_minor": 0
}